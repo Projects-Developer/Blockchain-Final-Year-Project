{
  "nbformat": 4,
  "nbformat_minor": 0,
  "metadata": {
    "colab": {
      "name": "Blockchain Project dem.ipynb",
      "provenance": []
    },
    "kernelspec": {
      "name": "python3",
      "display_name": "Python 3"
    },
    "language_info": {
      "name": "python"
    }
  },
  "cells": [
    {
      "cell_type": "markdown",
      "metadata": {
        "id": "EuFXLZq95EM3"
      },
      "source": [
        "\n",
        "## **BLOCKCHAIN**\n",
        "\n",
        "**Blockchain can be defined as a chain of blocks that contains information**\n",
        "\n",
        "\n",
        "Blockchain technology is a structure that stores transactional records, also known as the block, of the public in several databases, known as the “chain,” in a network connected through peer-to-peer nodes. Typically, this storage is referred to as a ‘digital ledger.’"
      ]
    },
    {
      "cell_type": "markdown",
      "metadata": {
        "id": "UviVQX-253il"
      },
      "source": [
        "# Block\n",
        "\n",
        "**A block is a container that contains data which is secured by unique ID called hash.**"
      ]
    },
    {
      "cell_type": "markdown",
      "metadata": {
        "id": "kMrkQY186Kj9"
      },
      "source": [
        "# Hash\n",
        "Hash Is Unique ID that identify blocks\n",
        "\n",
        "Here, sha3_256 is the hashing algorithm that is used in this demonstration"
      ]
    },
    {
      "cell_type": "code",
      "metadata": {
        "id": "TCewtBem6KV4"
      },
      "source": [
        "#Importing a hash library that holds hash algorithms, methods and functions.\n",
        "import hashlib"
      ],
      "execution_count": null,
      "outputs": []
    },
    {
      "cell_type": "markdown",
      "metadata": {
        "id": "AX-M0qf86ngt"
      },
      "source": [
        "The cell below contains code that is used to get a hash key for string \"HELLO SHIVAM\"."
      ]
    },
    {
      "cell_type": "code",
      "metadata": {
        "colab": {
          "base_uri": "https://localhost:8080/"
        },
        "id": "guBCJ7bM53Dm",
        "outputId": "95b5e064-f4ea-43c7-f6bc-eb013ccb4a25"
      },
      "source": [
        "m = hashlib.sha3_256() \n",
        "m.update(b'HELLO SECURITY GUY')\n",
        "hash1= m.hexdigest() #Generates a hexadecimal hash key\n",
        "print('The hash key of \"HELLO SECURITY GUY\" is :-', hash1)"
      ],
      "execution_count": null,
      "outputs": [
        {
          "output_type": "stream",
          "text": [
            "The hash key of \"HELLO SHIVAM\" is :- 2503a43f8234aa01c9a3ff4fcdab11d0e8a05ae2c3d0034690286b55370df5c8\n"
          ],
          "name": "stdout"
        }
      ]
    },
    {
      "cell_type": "markdown",
      "metadata": {
        "id": "hX3-YkH_7FDA"
      },
      "source": [
        "The cell below contains code that is used to get a hash key for string \"hello shivam\".\n",
        "\n"
      ]
    },
    {
      "cell_type": "code",
      "metadata": {
        "colab": {
          "base_uri": "https://localhost:8080/"
        },
        "id": "QH8Ulzr55wWs",
        "outputId": "580842b4-1852-476d-9497-479f592a2f90"
      },
      "source": [
        "\n",
        "n = hashlib.sha3_256()\n",
        "n.update(b'hello security guy')\n",
        "hash2 = n.hexdigest() #Generates a hexadecimal hash key\n",
        "print('The hash key of \"hello security guy\" is :-', hash2)"
      ],
      "execution_count": null,
      "outputs": [
        {
          "output_type": "stream",
          "text": [
            "The hash key of \"hello security guy\" is :- 3436d160d007c7b50641a9f1cbe905609a40f59d9b0fb841e4c41856c2732044\n"
          ],
          "name": "stdout"
        }
      ]
    },
    {
      "cell_type": "code",
      "metadata": {
        "colab": {
          "base_uri": "https://localhost:8080/"
        },
        "id": "cU36qv1awb1i",
        "outputId": "20d70000-e803-4cf5-8f8d-04e4d9c72d2b"
      },
      "source": [
        "print('The hash key of \"intro on blockchain\" is :-', hash1)\n",
        "print('The hash key of \"Intro on blockchain\" is :-', hash2)"
      ],
      "execution_count": null,
      "outputs": [
        {
          "output_type": "stream",
          "text": [
            "The hash key of \"intro on blockchain\" is :- 2503a43f8234aa01c9a3ff4fcdab11d0e8a05ae2c3d0034690286b55370df5c8\n",
            "The hash key of \"Intro on blockchain\" is :- 3436d160d007c7b50641a9f1cbe905609a40f59d9b0fb841e4c41856c2732044\n"
          ],
          "name": "stdout"
        }
      ]
    },
    {
      "cell_type": "markdown",
      "metadata": {
        "id": "tbdeAE2i7YJu"
      },
      "source": [
        "# GREATEST STUFF !!\n",
        "\n",
        "Just by changing the upper case to lower case our hash key got changed."
      ]
    },
    {
      "cell_type": "markdown",
      "metadata": {
        "id": "mcUEB0N17w-P"
      },
      "source": [
        "comparison between a very large piece of similar information or data can be done using hashing!!"
      ]
    },
    {
      "cell_type": "code",
      "metadata": {
        "id": "cY2mzbWV7X5A"
      },
      "source": [
        "#Lets look at the size of a hash\n",
        "a = m.digest_size #size of hash of first string\n",
        "b = n.digest_size #size of hash ofsecond string"
      ],
      "execution_count": null,
      "outputs": []
    },
    {
      "cell_type": "code",
      "metadata": {
        "colab": {
          "base_uri": "https://localhost:8080/"
        },
        "id": "SHdQHQ377SN1",
        "outputId": "684fe916-2bc6-4b7f-a4a1-a508638874e2"
      },
      "source": [
        "print (\"The size of hash generated by sha3_256 is :-\", a)\n",
        "print (\"The size of hash generated by sha3_256 is :-\", b)"
      ],
      "execution_count": null,
      "outputs": [
        {
          "output_type": "stream",
          "text": [
            "The size of hash generated by sha3_256 is :- 32\n",
            "The size of hash generated by sha3_256 is :- 32\n"
          ],
          "name": "stdout"
        }
      ]
    },
    {
      "cell_type": "markdown",
      "metadata": {
        "id": "nNuiuicR8xkd"
      },
      "source": [
        "All the hash key generated by sha3_256 has the total size 256 bit (32 byte). The size of a hash may vary according to the kind of algorithm used.\n",
        "\n"
      ]
    },
    {
      "cell_type": "code",
      "metadata": {
        "id": "rpDTTXRB8xEc"
      },
      "source": [
        ""
      ],
      "execution_count": null,
      "outputs": []
    },
    {
      "cell_type": "markdown",
      "metadata": {
        "id": "P-5OZskC83E_"
      },
      "source": [
        "# WAIT !\n",
        "\n",
        "For full Project code, Mail me at vatshayan007@gmail.com\n",
        "\n",
        "I will send you detailed report, Project code, synopsis and PPT."
      ]
    },
    {
      "cell_type": "code",
      "metadata": {
        "id": "jMGvddyx82i9"
      },
      "source": [
        ""
      ],
      "execution_count": null,
      "outputs": []
    },
    {
      "cell_type": "code",
      "metadata": {
        "id": "oCyN9cz3wEtq"
      },
      "source": [
        ""
      ],
      "execution_count": null,
      "outputs": []
    }
  ]
}